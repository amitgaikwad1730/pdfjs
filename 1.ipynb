{
 "cells": [
  {
   "cell_type": "code",
   "execution_count": 1,
   "metadata": {},
   "outputs": [],
   "source": [
    "import ocrmypdf\n",
    "import pytesseract"
   ]
  },
  {
   "cell_type": "code",
   "execution_count": 2,
   "metadata": {},
   "outputs": [],
   "source": [
    "pytesseract.pytesseract.tesseract_cmd = \"C:\\\\Program Files\\\\Tesseract-OCR\\\\tessdata\\\\\""
   ]
  },
  {
   "cell_type": "code",
   "execution_count": 3,
   "metadata": {},
   "outputs": [],
   "source": [
    "def ocr(file_path, save_path):\n",
    "    ocrmypdf.ocr(file_path, save_path, rotate_pages=True,\n",
    "    remove_background=True, deskew=True, force_ocr=True)"
   ]
  },
  {
   "cell_type": "code",
   "execution_count": 5,
   "metadata": {},
   "outputs": [
    {
     "name": "stderr",
     "output_type": "stream",
     "text": [
      "Scanning contents: 100%|██████████████████████████████████████████████████████████████| 2/2 [00:00<00:00, 250.17page/s]\n",
      "OCR: 100%|█████████████████████████████████████████████████████████████████████████| 2.0/2.0 [00:04<00:00,  2.04s/page]\n",
      "PDF/A conversion: 100%|████████████████████████████████████████████████████████████████| 2/2 [00:00<00:00,  4.33page/s]\n",
      "JPEGs: 0image [00:00, ?image/s]\n",
      "JBIG2: 0item [00:00, ?item/s]\n"
     ]
    }
   ],
   "source": [
    "ocr(\"C:\\\\Users\\\\Amit\\\\Desktop\\\\Searchable\\\\q.pdf\",\"C:\\\\Users\\\\Amit\\\\Desktop\\\\Searchable\\\\new2.pdf\")"
   ]
  },
  {
   "cell_type": "code",
   "execution_count": null,
   "metadata": {},
   "outputs": [],
   "source": []
  }
 ],
 "metadata": {
  "kernelspec": {
   "display_name": "Python 3",
   "language": "python",
   "name": "python3"
  },
  "language_info": {
   "codemirror_mode": {
    "name": "ipython",
    "version": 3
   },
   "file_extension": ".py",
   "mimetype": "text/x-python",
   "name": "python",
   "nbconvert_exporter": "python",
   "pygments_lexer": "ipython3",
   "version": "3.8.3"
  }
 },
 "nbformat": 4,
 "nbformat_minor": 4
}
